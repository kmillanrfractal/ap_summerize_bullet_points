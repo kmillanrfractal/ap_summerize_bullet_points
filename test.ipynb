{
 "cells": [
  {
   "cell_type": "code",
   "execution_count": 1,
   "metadata": {},
   "outputs": [],
   "source": [
    "from map_reduce.model import map_model\n",
    "from refine.model import refine_model\n",
    "from stuff_model.model import stuff_model\n",
    "from prompts import prompts\n",
    "from tqdm import tqdm\n",
    "import csv"
   ]
  },
  {
   "cell_type": "markdown",
   "metadata": {},
   "source": [
    "# Base article"
   ]
  },
  {
   "cell_type": "code",
   "execution_count": 2,
   "metadata": {},
   "outputs": [],
   "source": [
    "doc=\"\"\"MEXICO CITY (AP) — The smell of hairspray clouds Alexa Flores López as she gets the finishing touches of an intricate updo on her thick black hair. When Alexa found out she was going to have a quinceañera — the traditional celebration for a 15th birthday in Mexico — she could barely contain herself.\\n\\She got super excited, like her heart would come out!\\\" said her mother, Carmen López Díaz. \\\"She was just counting down the days.\\\"\\nAt the Federico Gomez Children\\\\'s Hospital in Mexico City, volunteers clad in white and blue nurse uniforms scurry to attend to birthday girls and boys. They curl hair, do makeup, and adjust bow ties.\\nIt\\'s all for the hospital\\'s annual \\\"Mis XV\\\" or \\\"My Fifteenth\\\" event. Whether the young patients are in treatment for a serious disease or have overcome cancer, the hospital celebrates the coming-of-age of these teenagers. After going through expensive treatments, some families can\\'t afford to pay for a party — with the hospital providing them an alternative.\\n\\\"We\\'ve really just bought shoes because the hospital handles everything,\\\" said Díaz. \\nThe hospital started throwing the event in 2017 after volunteer nurses caught wind that a beloved patient would turn 15 soon. They took it as an opportunity to organize a celebration for her and eventually turned it into an annual hospital event that\\'s been going strong for seven years.\\nIn Mexico, the \\\"quinceñera\\\" or \\\"fifteenth birthday\\\" is a huge rite of passage for adolescents, particularly girls. The occasion marks the transition of a teen into adulthood.\\nThough Alexa\\'s birthday was last month, the hospital allows patients to participate if their birthdays happen within the year of the celebration. \\nShe has been a patient at the hospital the past three years receiving treatment for lupus. Her younger sister was just diagnosed with the same disease last year, making things more difficult for the family. However, the hospital\\'s celebration has been something to look forward to. \\n\\\"We never imagined so much — we thought this was going to be a regular hospital event,\\\" her mother said. \\nFrancesca Solórzano, who has been a volunteer at the hospital for 17 years, assists Alexa on her big day and attends to her every need. Solórzano makes sure the teen has enough water and showers hairspray onto her dress to make sure its fabric remains crisp. \\nShe also sports a silver and blue pin that matches Alexa\\'s bouquet.\\n\\\"I receive more than I give,\\\" Solórzano says about volunteering. \\\"I give my time here and I get a lot of blessings in return.\\\"\\nSolórzano takes Alexa into a dressing area to change into her dress. When she comes out in a deep navy blue gown sprinkled with sequins, volunteers exclaim, \\\"How pretty!\\\" Another volunteer takes her cellphone out and snaps a picture. \\\"She looks like a princess!\\\" \\nOn the other end of the room, Carlos Emilio Escalona García, 15, takes a seat with his mom after getting suited up. \\nFor his mother, Marta Magdalena García Chávez, the day is filled with nothing but joy.\\n\\\"It\\'s really beautiful to see all of this happening,\\\" she said. \\\"He just had surgery so we wouldn\\'t have had the possibility to have a party.\\\"\\nCarlos has been a patient with the hospital for 13 years. He has dealt with heart problems since he was a child, and just underwent his fourth surgery. His mother said he gets tired often, but is still motivated to make the most out of every day.\\n\\\"Like every other teenager, my favorite class is physical education,\\\" Carlos says. \\\"I also really enjoy doing math — I have so much fun doing different operations.\\\"\\nThe preparations for the hospital\\'s extravaganza have been a long time in the making. As early as January the hospital is already reaching out to make-up artists and other vendors to see if they want to participate. The entire event comes together free of charge.\\nAfter getting fitted into their regal looks, it\\'s time for the party to start.\\nDownstairs in the banquet hall, family members crowd the dance floor, craning their necks to get a look at the teenagers. As they walk in with their partners, Carlos and Alexa end up lined up side by side.\\n\\\"A round of applause for our fifteen-year-olds!\\\" says someone in the crowd.\\nAs they kick off the first dance, Alexa takes the hand of her partner and her mom zooms in on her phone to get a video. After the chorus of the song settles, her mother takes a deep breath and puts her phone away — ready to capture the moment.\\nShe stares in awe at her daughter as she twirls in her blue tulle skirt.\\n\"\"\""
   ]
  },
  {
   "cell_type": "code",
   "execution_count": 3,
   "metadata": {},
   "outputs": [],
   "source": [
    "def generar_csv(datos, nombre_archivo='tiempo_precio.csv'):\n",
    "    # Abrir archivo CSV para escribir\n",
    "    with open(nombre_archivo, mode='w', newline='') as file:\n",
    "        writer = csv.writer(file)\n",
    "        writer.writerow(['Tiempo', 'Precio'])  # Escribir encabezado\n",
    "\n",
    "        # Iterar sobre los elementos de la lista\n",
    "        for item in datos:\n",
    "            for key, value in item.items():\n",
    "                tiempo = value[1]  # El segundo elemento es el tiempo\n",
    "                precio = value[2]  # El tercer elemento es el precio\n",
    "                writer.writerow([tiempo, precio])  # Escribir fila con tiempo y precio\n"
   ]
  },
  {
   "cell_type": "markdown",
   "metadata": {},
   "source": [
    "# Models"
   ]
  },
  {
   "cell_type": "code",
   "execution_count": 4,
   "metadata": {},
   "outputs": [],
   "source": [
    "models = [\"gpt-4o-mini\", \"gpt-4o\", \"gpt-4\"]"
   ]
  },
  {
   "cell_type": "markdown",
   "metadata": {},
   "source": [
    "# Map reduce models"
   ]
  },
  {
   "cell_type": "markdown",
   "metadata": {},
   "source": [
    "### basic_summary_prompt"
   ]
  },
  {
   "cell_type": "code",
   "execution_count": 5,
   "metadata": {},
   "outputs": [
    {
     "name": "stderr",
     "output_type": "stream",
     "text": [
      "  0%|          | 0/10 [00:00<?, ?it/s]/Users/arturo/repos_fractal/ap_summerize_bullet_points/map_reduce/model.py:45: LangChainDeprecationWarning: The method `Chain.__call__` was deprecated in langchain 0.1.0 and will be removed in 1.0. Use invoke instead.\n",
      "  map_reduce_outputs = map_reduce_chain({\"input_documents\": [doc]})\n",
      "100%|██████████| 10/10 [00:37<00:00,  3.73s/it]\n",
      "100%|██████████| 10/10 [00:35<00:00,  3.59s/it]\n",
      "100%|██████████| 10/10 [02:24<00:00, 14.48s/it]\n"
     ]
    }
   ],
   "source": [
    "results_basic = []\n",
    "for model in models:\n",
    "\n",
    "    for i in tqdm(range(0,10)):\n",
    "\n",
    "        l = map_model(doc = doc, prompt=prompts.basic_summary_prompt, model_name = model)\n",
    "\n",
    "        results_basic.append({model: l})\n"
   ]
  },
  {
   "cell_type": "code",
   "execution_count": 6,
   "metadata": {},
   "outputs": [],
   "source": [
    "gpt_4o_mini = list(filter(lambda x: 'gpt-4o-mini' in  x.keys(), results_basic))\n",
    "gpt_4o = list(filter(lambda x: 'gpt-4o' in  x.keys(), results_basic))\n",
    "gpt_4 = list(filter(lambda x: 'gpt-4' in  x.keys(), results_basic))\n"
   ]
  },
  {
   "cell_type": "code",
   "execution_count": 7,
   "metadata": {},
   "outputs": [],
   "source": [
    "generar_csv(gpt_4, \"basic_sumary_gpt_4\")\n",
    "generar_csv(gpt_4o, \"basic_sumary_gpt_4o\")\n",
    "generar_csv(gpt_4o_mini, \"basic_sumary_gpt_4o-mini\")"
   ]
  },
  {
   "cell_type": "markdown",
   "metadata": {},
   "source": [
    "### summary_prompt_without_zero_shot"
   ]
  },
  {
   "cell_type": "code",
   "execution_count": 8,
   "metadata": {},
   "outputs": [
    {
     "name": "stderr",
     "output_type": "stream",
     "text": [
      "100%|██████████| 10/10 [00:41<00:00,  4.16s/it]\n",
      "100%|██████████| 10/10 [00:42<00:00,  4.22s/it]\n",
      "100%|██████████| 10/10 [02:27<00:00, 14.73s/it]\n"
     ]
    }
   ],
   "source": [
    "results_basic = []\n",
    "for model in models:\n",
    "\n",
    "    for i in tqdm(range(0,10)):\n",
    "\n",
    "        l = map_model(doc = doc, prompt=prompts.summary_prompt_without_zero_shot, model_name = model)\n",
    "\n",
    "        results_basic.append({model: l})"
   ]
  },
  {
   "cell_type": "code",
   "execution_count": 9,
   "metadata": {},
   "outputs": [],
   "source": [
    "gpt_4o_mini = list(filter(lambda x: 'gpt-4o-mini' in  x.keys(), results_basic))\n",
    "gpt_4o = list(filter(lambda x: 'gpt-4o' in  x.keys(), results_basic))\n",
    "gpt_4 = list(filter(lambda x: 'gpt-4' in  x.keys(), results_basic))"
   ]
  },
  {
   "cell_type": "code",
   "execution_count": 10,
   "metadata": {},
   "outputs": [],
   "source": [
    "generar_csv(gpt_4, \"summary_prompt_without_zero_shot_gpt_4\")\n",
    "generar_csv(gpt_4o, \"summary_prompt_without_zero_shot_gpt_4o\")\n",
    "generar_csv(gpt_4o_mini, \"summary_prompt_without_zero_shot_gpt_4o-mini\")"
   ]
  },
  {
   "cell_type": "markdown",
   "metadata": {},
   "source": [
    "### summary_prompt"
   ]
  },
  {
   "cell_type": "code",
   "execution_count": 11,
   "metadata": {},
   "outputs": [
    {
     "name": "stderr",
     "output_type": "stream",
     "text": [
      "100%|██████████| 10/10 [00:42<00:00,  4.23s/it]\n",
      "100%|██████████| 10/10 [00:42<00:00,  4.28s/it]\n",
      "100%|██████████| 10/10 [02:17<00:00, 13.75s/it]\n"
     ]
    }
   ],
   "source": [
    "results_basic = []\n",
    "for model in models:\n",
    "\n",
    "    for i in tqdm(range(0,10)):\n",
    "\n",
    "        l = map_model(doc = doc, prompt=prompts.summary_prompt, model_name = model)\n",
    "\n",
    "        results_basic.append({model: l})"
   ]
  },
  {
   "cell_type": "code",
   "execution_count": 12,
   "metadata": {},
   "outputs": [],
   "source": [
    "gpt_4o_mini = list(filter(lambda x: 'gpt-4o-mini' in  x.keys(), results_basic))\n",
    "gpt_4o = list(filter(lambda x: 'gpt-4o' in  x.keys(), results_basic))\n",
    "gpt_4 = list(filter(lambda x: 'gpt-4' in  x.keys(), results_basic))"
   ]
  },
  {
   "cell_type": "code",
   "execution_count": 13,
   "metadata": {},
   "outputs": [],
   "source": [
    "generar_csv(gpt_4, \"summary_prompt_gpt_4\")\n",
    "generar_csv(gpt_4o, \"summary_prompt_gpt_4o\")\n",
    "generar_csv(gpt_4o_mini, \"summary_prompt_gpt_4o-mini\")"
   ]
  },
  {
   "cell_type": "markdown",
   "metadata": {},
   "source": [
    "# Refine Models"
   ]
  },
  {
   "cell_type": "markdown",
   "metadata": {},
   "source": [
    "### summary_prompt_without_zero_shot"
   ]
  },
  {
   "cell_type": "code",
   "execution_count": 14,
   "metadata": {},
   "outputs": [
    {
     "name": "stderr",
     "output_type": "stream",
     "text": [
      "100%|██████████| 10/10 [00:25<00:00,  2.53s/it]\n",
      "100%|██████████| 10/10 [00:22<00:00,  2.23s/it]\n",
      "100%|██████████| 10/10 [01:36<00:00,  9.65s/it]\n"
     ]
    }
   ],
   "source": [
    "results_basic = []\n",
    "for model in models:\n",
    "\n",
    "    for i in tqdm(range(0,10)):\n",
    "\n",
    "        l = refine_model(doc = doc, prompt=prompts.summary_prompt_without_zero_shot, model_name = model)\n",
    "\n",
    "        results_basic.append({model: l})"
   ]
  },
  {
   "cell_type": "code",
   "execution_count": 15,
   "metadata": {},
   "outputs": [],
   "source": [
    "gpt_4o_mini = list(filter(lambda x: 'gpt-4o-mini' in  x.keys(), results_basic))\n",
    "gpt_4o = list(filter(lambda x: 'gpt-4o' in  x.keys(), results_basic))\n",
    "gpt_4 = list(filter(lambda x: 'gpt-4' in  x.keys(), results_basic))"
   ]
  },
  {
   "cell_type": "code",
   "execution_count": 16,
   "metadata": {},
   "outputs": [],
   "source": [
    "generar_csv(gpt_4, \"summary_prompt_without_zero_shot_gpt_4\")\n",
    "generar_csv(gpt_4o, \"summary_prompt_without_zero_shot_gpt_4o\")\n",
    "generar_csv(gpt_4o_mini, \"summary_prompt_without_zero_shot_gpt_4o-mini\")"
   ]
  },
  {
   "cell_type": "markdown",
   "metadata": {},
   "source": [
    "### basic_summary_prompt"
   ]
  },
  {
   "cell_type": "code",
   "execution_count": 17,
   "metadata": {},
   "outputs": [
    {
     "name": "stderr",
     "output_type": "stream",
     "text": [
      "100%|██████████| 10/10 [00:23<00:00,  2.33s/it]\n",
      "100%|██████████| 10/10 [00:21<00:00,  2.12s/it]\n",
      "100%|██████████| 10/10 [01:17<00:00,  7.73s/it]\n"
     ]
    }
   ],
   "source": [
    "results_basic = []\n",
    "for model in models:\n",
    "\n",
    "    for i in tqdm(range(0,10)):\n",
    "\n",
    "        l = refine_model(doc = doc, prompt=prompts.basic_summary_prompt, model_name = model)\n",
    "\n",
    "        results_basic.append({model: l})"
   ]
  },
  {
   "cell_type": "code",
   "execution_count": 18,
   "metadata": {},
   "outputs": [],
   "source": [
    "gpt_4o_mini = list(filter(lambda x: 'gpt-4o-mini' in  x.keys(), results_basic))\n",
    "gpt_4o = list(filter(lambda x: 'gpt-4o' in  x.keys(), results_basic))\n",
    "gpt_4 = list(filter(lambda x: 'gpt-4' in  x.keys(), results_basic))"
   ]
  },
  {
   "cell_type": "code",
   "execution_count": 19,
   "metadata": {},
   "outputs": [],
   "source": [
    "generar_csv(gpt_4, \"basic_summary_promptt_gpt_4\")\n",
    "generar_csv(gpt_4o, \"basic_summary_prompt_gpt_4o\")\n",
    "generar_csv(gpt_4o_mini, \"basic_summary_prompt_gpt_4o-mini\")"
   ]
  },
  {
   "cell_type": "markdown",
   "metadata": {},
   "source": [
    "### summary_prompt"
   ]
  },
  {
   "cell_type": "code",
   "execution_count": 20,
   "metadata": {},
   "outputs": [
    {
     "name": "stderr",
     "output_type": "stream",
     "text": [
      "100%|██████████| 10/10 [00:25<00:00,  2.51s/it]\n",
      "100%|██████████| 10/10 [00:24<00:00,  2.42s/it]\n",
      "100%|██████████| 10/10 [01:17<00:00,  7.72s/it]\n"
     ]
    }
   ],
   "source": [
    "results_basic = []\n",
    "for model in models:\n",
    "\n",
    "    for i in tqdm(range(0,10)):\n",
    "\n",
    "        l = refine_model(doc = doc, prompt=prompts.summary_prompt, model_name = model)\n",
    "\n",
    "        results_basic.append({model: l})"
   ]
  },
  {
   "cell_type": "code",
   "execution_count": 21,
   "metadata": {},
   "outputs": [],
   "source": [
    "gpt_4o_mini = list(filter(lambda x: 'gpt-4o-mini' in  x.keys(), results_basic))\n",
    "gpt_4o = list(filter(lambda x: 'gpt-4o' in  x.keys(), results_basic))\n",
    "gpt_4 = list(filter(lambda x: 'gpt-4' in  x.keys(), results_basic))"
   ]
  },
  {
   "cell_type": "code",
   "execution_count": 22,
   "metadata": {},
   "outputs": [],
   "source": [
    "generar_csv(gpt_4, \"summary_prompt_gpt_4\")\n",
    "generar_csv(gpt_4o, \"summary_prompt_gpt_4o\")\n",
    "generar_csv(gpt_4o_mini, \"summary_prompt_gpt_4o-mini\")"
   ]
  },
  {
   "cell_type": "markdown",
   "metadata": {},
   "source": [
    "# Stuff Models"
   ]
  },
  {
   "cell_type": "markdown",
   "metadata": {},
   "source": [
    "### summary_prompt"
   ]
  },
  {
   "cell_type": "code",
   "execution_count": 23,
   "metadata": {},
   "outputs": [
    {
     "name": "stderr",
     "output_type": "stream",
     "text": [
      "100%|██████████| 10/10 [00:28<00:00,  2.83s/it]\n",
      "100%|██████████| 10/10 [00:25<00:00,  2.54s/it]\n",
      "100%|██████████| 10/10 [01:21<00:00,  8.11s/it]\n"
     ]
    }
   ],
   "source": [
    "results_basic = []\n",
    "for model in models:\n",
    "\n",
    "    for i in tqdm(range(0,10)):\n",
    "\n",
    "        l = stuff_model(doc = doc, prompt=prompts.summary_prompt, model_name = model)\n",
    "\n",
    "        results_basic.append({model: l})"
   ]
  },
  {
   "cell_type": "code",
   "execution_count": 24,
   "metadata": {},
   "outputs": [],
   "source": [
    "gpt_4o_mini = list(filter(lambda x: 'gpt-4o-mini' in  x.keys(), results_basic))\n",
    "gpt_4o = list(filter(lambda x: 'gpt-4o' in  x.keys(), results_basic))\n",
    "gpt_4 = list(filter(lambda x: 'gpt-4' in  x.keys(), results_basic))"
   ]
  },
  {
   "cell_type": "code",
   "execution_count": 25,
   "metadata": {},
   "outputs": [],
   "source": [
    "generar_csv(gpt_4, \"summary_prompt_gpt_4\")\n",
    "generar_csv(gpt_4o, \"summary_prompt_gpt_4o\")\n",
    "generar_csv(gpt_4o_mini, \"summary_prompt_gpt_4o-mini\")"
   ]
  },
  {
   "cell_type": "markdown",
   "metadata": {},
   "source": [
    "### basic_summary_prompt"
   ]
  },
  {
   "cell_type": "code",
   "execution_count": 26,
   "metadata": {},
   "outputs": [
    {
     "name": "stderr",
     "output_type": "stream",
     "text": [
      "100%|██████████| 10/10 [00:21<00:00,  2.17s/it]\n",
      "100%|██████████| 10/10 [00:19<00:00,  1.99s/it]\n",
      " 20%|██        | 2/10 [00:15<01:02,  7.81s/it]"
     ]
    }
   ],
   "source": [
    "results_basic = []\n",
    "for model in models:\n",
    "\n",
    "    for i in tqdm(range(0,10)):\n",
    "\n",
    "        l = stuff_model(doc = doc, prompt=prompts.basic_summary_prompt, model_name = model)\n",
    "\n",
    "        results_basic.append({model: l})"
   ]
  },
  {
   "cell_type": "code",
   "execution_count": null,
   "metadata": {},
   "outputs": [],
   "source": [
    "gpt_4o_mini = list(filter(lambda x: 'gpt-4o-mini' in  x.keys(), results_basic))\n",
    "gpt_4o = list(filter(lambda x: 'gpt-4o' in  x.keys(), results_basic))\n",
    "gpt_4 = list(filter(lambda x: 'gpt-4' in  x.keys(), results_basic))"
   ]
  },
  {
   "cell_type": "code",
   "execution_count": null,
   "metadata": {},
   "outputs": [],
   "source": [
    "generar_csv(gpt_4, \"basic_summary_promptt_gpt_4\")\n",
    "generar_csv(gpt_4o, \"basic_summary_prompt_gpt_4o\")\n",
    "generar_csv(gpt_4o_mini, \"basic_summary_prompt_gpt_4o-mini\")"
   ]
  },
  {
   "cell_type": "markdown",
   "metadata": {},
   "source": [
    "### summary_prompt_without_zero_shot"
   ]
  },
  {
   "cell_type": "code",
   "execution_count": null,
   "metadata": {},
   "outputs": [],
   "source": [
    "results_basic = []\n",
    "for model in models:\n",
    "\n",
    "    for i in tqdm(range(0,10)):\n",
    "\n",
    "        l = stuff_model(doc = doc, prompt=prompts.summary_prompt_without_zero_shot, model_name = model)\n",
    "\n",
    "        results_basic.append({model: l})"
   ]
  }
 ],
 "metadata": {
  "kernelspec": {
   "display_name": ".venv",
   "language": "python",
   "name": "python3"
  },
  "language_info": {
   "codemirror_mode": {
    "name": "ipython",
    "version": 3
   },
   "file_extension": ".py",
   "mimetype": "text/x-python",
   "name": "python",
   "nbconvert_exporter": "python",
   "pygments_lexer": "ipython3",
   "version": "3.9.2"
  }
 },
 "nbformat": 4,
 "nbformat_minor": 2
}
