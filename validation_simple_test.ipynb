{
 "cells": [
  {
   "cell_type": "code",
   "execution_count": 1,
   "metadata": {},
   "outputs": [],
   "source": [
    "from stuff_model import model\n",
    "from prompts import prompts\n",
    "from langchain import PromptTemplate\n",
    "from validation_simple_test import simple_varification\n"
   ]
  },
  {
   "cell_type": "code",
   "execution_count": 2,
   "metadata": {},
   "outputs": [],
   "source": [
    "doc=\"\"\"MEXICO CITY (AP) — The smell of hairspray clouds Alexa Flores López as she gets the finishing touches of an intricate updo on her thick black hair. When Alexa found out she was going to have a quinceañera — the traditional celebration for a 15th birthday in Mexico — she could barely contain herself.\\n\\She got super excited, like her heart would come out!\\\" said her mother, Carmen López Díaz. \\\"She was just counting down the days.\\\"\\nAt the Federico Gomez Children\\\\'s Hospital in Mexico City, volunteers clad in white and blue nurse uniforms scurry to attend to birthday girls and boys. They curl hair, do makeup, and adjust bow ties.\\nIt\\'s all for the hospital\\'s annual \\\"Mis XV\\\" or \\\"My Fifteenth\\\" event. Whether the young patients are in treatment for a serious disease or have overcome cancer, the hospital celebrates the coming-of-age of these teenagers. After going through expensive treatments, some families can\\'t afford to pay for a party — with the hospital providing them an alternative.\\n\\\"We\\'ve really just bought shoes because the hospital handles everything,\\\" said Díaz. \\nThe hospital started throwing the event in 2017 after volunteer nurses caught wind that a beloved patient would turn 15 soon. They took it as an opportunity to organize a celebration for her and eventually turned it into an annual hospital event that\\'s been going strong for seven years.\\nIn Mexico, the \\\"quinceñera\\\" or \\\"fifteenth birthday\\\" is a huge rite of passage for adolescents, particularly girls. The occasion marks the transition of a teen into adulthood.\\nThough Alexa\\'s birthday was last month, the hospital allows patients to participate if their birthdays happen within the year of the celebration. \\nShe has been a patient at the hospital the past three years receiving treatment for lupus. Her younger sister was just diagnosed with the same disease last year, making things more difficult for the family. However, the hospital\\'s celebration has been something to look forward to. \\n\\\"We never imagined so much — we thought this was going to be a regular hospital event,\\\" her mother said. \\nFrancesca Solórzano, who has been a volunteer at the hospital for 17 years, assists Alexa on her big day and attends to her every need. Solórzano makes sure the teen has enough water and showers hairspray onto her dress to make sure its fabric remains crisp. \\nShe also sports a silver and blue pin that matches Alexa\\'s bouquet.\\n\\\"I receive more than I give,\\\" Solórzano says about volunteering. \\\"I give my time here and I get a lot of blessings in return.\\\"\\nSolórzano takes Alexa into a dressing area to change into her dress. When she comes out in a deep navy blue gown sprinkled with sequins, volunteers exclaim, \\\"How pretty!\\\" Another volunteer takes her cellphone out and snaps a picture. \\\"She looks like a princess!\\\" \\nOn the other end of the room, Carlos Emilio Escalona García, 15, takes a seat with his mom after getting suited up. \\nFor his mother, Marta Magdalena García Chávez, the day is filled with nothing but joy.\\n\\\"It\\'s really beautiful to see all of this happening,\\\" she said. \\\"He just had surgery so we wouldn\\'t have had the possibility to have a party.\\\"\\nCarlos has been a patient with the hospital for 13 years. He has dealt with heart problems since he was a child, and just underwent his fourth surgery. His mother said he gets tired often, but is still motivated to make the most out of every day.\\n\\\"Like every other teenager, my favorite class is physical education,\\\" Carlos says. \\\"I also really enjoy doing math — I have so much fun doing different operations.\\\"\\nThe preparations for the hospital\\'s extravaganza have been a long time in the making. As early as January the hospital is already reaching out to make-up artists and other vendors to see if they want to participate. The entire event comes together free of charge.\\nAfter getting fitted into their regal looks, it\\'s time for the party to start.\\nDownstairs in the banquet hall, family members crowd the dance floor, craning their necks to get a look at the teenagers. As they walk in with their partners, Carlos and Alexa end up lined up side by side.\\n\\\"A round of applause for our fifteen-year-olds!\\\" says someone in the crowd.\\nAs they kick off the first dance, Alexa takes the hand of her partner and her mom zooms in on her phone to get a video. After the chorus of the song settles, her mother takes a deep breath and puts her phone away — ready to capture the moment.\\nShe stares in awe at her daughter as she twirls in her blue tulle skirt.\\n\"\"\""
   ]
  },
  {
   "cell_type": "code",
   "execution_count": 3,
   "metadata": {},
   "outputs": [],
   "source": [
    "prompt = PromptTemplate(\n",
    "    input_variables=[\"context\"],\n",
    "    template=prompts.summary_prompt\n",
    "    + \"\"\"\n",
    "\n",
    "        Now summarize the next article: \n",
    "        \n",
    "        {context}\n",
    "    \"\"\",\n",
    ")\n",
    "base_response = model.stuff_model(doc=doc, prompt=prompts.summary_prompt, model_name=\"gpt-4o\")[0]"
   ]
  },
  {
   "cell_type": "code",
   "execution_count": 4,
   "metadata": {},
   "outputs": [
    {
     "data": {
      "text/plain": [
       "'Alexa Flores López beams as she prepares for her quinceañera at Federico Gomez Children\\'s Hospital in Mexico City. On Monday, volunteers adorned in nurse uniforms bustle around to primp birthday celebrants. This annual \"Mis XV\" event honors patients turning 15, celebrating their transition to adulthood despite their health battles. Alexa, who has lupus, eagerly participates alongside her peers, donning a glittering navy blue gown. Her mother, Carmen López Díaz, marvels at the hospital\\'s generosity, providing a dream event they couldn\\'t afford. Another teen, Carlos Emilio Escalona García, recovering from heart surgery, enjoys his special day. The hospital meticulously plans this extravagant event, ensuring each teen feels like royalty. As families gather, Alexa and Carlos step onto the dance floor, their parents capturing every magical moment.'"
      ]
     },
     "execution_count": 4,
     "metadata": {},
     "output_type": "execute_result"
    }
   ],
   "source": [
    "base_response"
   ]
  },
  {
   "cell_type": "code",
   "execution_count": 5,
   "metadata": {},
   "outputs": [
    {
     "name": "stderr",
     "output_type": "stream",
     "text": [
      "/Users/arturo/repos_fractal/ap_summerize_bullet_points/validation_simple_test.py:9: LangChainDeprecationWarning: The class `ChatOpenAI` was deprecated in LangChain 0.0.10 and will be removed in 1.0. An updated version of the class exists in the langchain-openai package and should be used instead. To use it run `pip install -U langchain-openai` and import as `from langchain_openai import ChatOpenAI`.\n",
      "  llm = ChatOpenAI(temperature=0, model_name=model_base_name)\n",
      "/Users/arturo/repos_fractal/ap_summerize_bullet_points/validation_simple_test.py:71: LangChainDeprecationWarning: The class `LLMChain` was deprecated in LangChain 0.1.17 and will be removed in 1.0. Use RunnableSequence, e.g., `prompt | llm` instead.\n",
      "  verifications_chain = LLMChain(\n"
     ]
    }
   ],
   "source": [
    "result = simple_varification(doc= doc, summarization_prompt=prompt, summary_generated=base_response)"
   ]
  },
  {
   "cell_type": "code",
   "execution_count": 9,
   "metadata": {},
   "outputs": [
    {
     "name": "stdout",
     "output_type": "stream",
     "text": [
      "1. Hallucination Detection:\n",
      "   - **Problematic Statement**: \"On Monday, volunteers adorned in nurse uniforms bustle around to primp birthday celebrants.\"\n",
      "     - **Explanation**: The original text does not specify that the event took place on a Monday. It simply describes the event without mentioning the specific day of the week.\n",
      "     - **Relevant Section**: The original text does not provide a specific day for the event.\n",
      "\n",
      "   - **Problematic Statement**: \"This annual 'Mis XV' event honors patients turning 15, celebrating their transition to adulthood despite their health battles.\"\n",
      "     - **Explanation**: While the summary captures the essence of the event, it implies that the event is exclusively for patients turning 15, which is misleading. The original text states that patients can participate if their birthdays happen within the year of the celebration, not just those turning 15 at that time.\n",
      "     - **Relevant Section**: \"Though Alexa's birthday was last month, the hospital allows patients to participate if their birthdays happen within the year of the celebration.\"\n",
      "\n",
      "   - **Problematic Statement**: \"Her mother, Carmen López Díaz, marvels at the hospital's generosity, providing a dream event they couldn't afford.\"\n",
      "     - **Explanation**: The summary suggests that the event is a \"dream event\" that they couldn't afford, which is an exaggeration. The original text mentions that the family has only bought shoes and that the hospital handles everything, but it does not explicitly state that they couldn't afford any celebration at all.\n",
      "     - **Relevant Section**: \"We've really just bought shoes because the hospital handles everything.\"\n",
      "\n",
      "   - **Problematic Statement**: \"The hospital meticulously plans this extravagant event, ensuring each teen feels like royalty.\"\n",
      "     - **Explanation**: The term \"extravagant\" is subjective and not supported by the original text, which describes the event as a celebration but does not use such language. The original text focuses on the hospital's efforts to create a special day for the patients rather than labeling it as extravagant.\n",
      "     - **Relevant Section**: The original text describes the preparations but does not characterize the event as extravagant.\n",
      "\n",
      "2. Accuracy Score:\n",
      "   - **Score**: 6/10\n",
      "     - The summary captures the main themes and events but includes several inaccuracies and embellishments that misrepresent the original text.\n",
      "\n",
      "3. Confidence Level:\n",
      "   - **Confidence Level**: High\n",
      "     - The analysis is based on a thorough comparison of the summary with the original text, and the identified issues are clear and supported by specific references.\n",
      "\n",
      "4. Improvement Suggestions:\n",
      "   - Remove the specific day of the week from the summary to avoid inaccuracies.\n",
      "   - Clarify that the event is for patients whose birthdays fall within the year, not just those turning 15.\n",
      "   - Avoid subjective language like \"dream event\" and \"extravagant\" to maintain neutrality and accuracy.\n",
      "   - Focus on the hospital's efforts without exaggerating the nature of the event.\n"
     ]
    }
   ],
   "source": [
    "print(result[\"text\"])"
   ]
  }
 ],
 "metadata": {
  "kernelspec": {
   "display_name": ".venv",
   "language": "python",
   "name": "python3"
  },
  "language_info": {
   "codemirror_mode": {
    "name": "ipython",
    "version": 3
   },
   "file_extension": ".py",
   "mimetype": "text/x-python",
   "name": "python",
   "nbconvert_exporter": "python",
   "pygments_lexer": "ipython3",
   "version": "3.9.2"
  }
 },
 "nbformat": 4,
 "nbformat_minor": 2
}
